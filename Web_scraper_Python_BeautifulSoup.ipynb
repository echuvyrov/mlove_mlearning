{
 "cells": [
  {
   "cell_type": "markdown",
   "metadata": {},
   "source": [
    "# Web Scraper with Python + BeautifulSoup\n",
    "Tested for Python3 <br>\n",
    "USE **urllib** to open url <br>\n",
    "USE **BeautifulSoup** to create page object and extract information. <br>\n",
    "Install bs4: **pip install bs4** <br><br>\n",
    "\n",
    "**Example** below: scape graphics card information from NewEgg.com and store the info. into a csv file."
   ]
  },
  {
   "cell_type": "code",
   "execution_count": 124,
   "metadata": {
    "collapsed": true
   },
   "outputs": [],
   "source": [
    "##Step 1: creat the web-page object\n",
    "\n",
    "from urllib.requeshttp://localhost:8888/notebooks/EV_data/New_Egg_scrape.ipynb#t import urlopen as uReq\n",
    "from bs4 import BeautifulSoup as soup\n",
    "my_url = 'https://www.newegg.com/Video-Cards-Video-Devices/Category/ID-38?Tpk=graphics%20card'\n",
    "uClient = uReq(my_url)\n",
    "page_html = uClient.read()\n",
    "uClient.close()\n",
    "page_soup = soup(page_html,\"html.parser\")"
   ]
  },
  {
   "cell_type": "code",
   "execution_count": 125,
   "metadata": {},
   "outputs": [
    {
     "name": "stdout",
     "output_type": "stream",
     "text": [
      "12\n"
     ]
    }
   ],
   "source": [
    "##Step 2: grab specified information of graphics card from the web-page object\n",
    "\n",
    "containers = page_soup.findAll('div',{'class':'item-container'})\n",
    "print(len(containers))\n",
    "\n",
    "#open file for writing\n",
    "fh = open('graphics_card.csv','w')\n",
    "\n",
    "#csv Header for downloaded information\n",
    "fh.write('Brand,Product,Price,Shipping\\n')\n",
    "\n",
    "for i,container in enumerate(containers):    \n",
    "    brand = container.div.div.a.img['title']\n",
    "    \n",
    "    title_container = container.findAll(\"a\",{'class':'item-title'})    \n",
    "    product_name = title_container[0].text.replace(',','|') #replace comma for csv write.\n",
    "    \n",
    "    price_container = container.findAll('li',{'class':'price-current'})\n",
    "    price = price_container[0].get_text().split()[1].replace(',','')\n",
    "        \n",
    "    shipping_container = container.findAll('li',{'class':'price-ship'})\n",
    "    shipping = shipping_container[0].text.strip()\n",
    "    \n",
    "    fh.write(brand+','+product_name+','+price+','+shipping+'\\n')\n",
    "fh.close()"
   ]
  }
 ],
 "metadata": {
  "kernelspec": {
   "display_name": "Python 3",
   "language": "python",
   "name": "python3"
  },
  "language_info": {
   "codemirror_mode": {
    "name": "ipython",
    "version": 3
   },
   "file_extension": ".py",
   "mimetype": "text/x-python",
   "name": "python",
   "nbconvert_exporter": "python",
   "pygments_lexer": "ipython3",
   "version": "3.6.1"
  }
 },
 "nbformat": 4,
 "nbformat_minor": 2
}
